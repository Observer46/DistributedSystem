{
 "cells": [
  {
   "cell_type": "markdown",
   "metadata": {},
   "source": [
    "# Python Sockets"
   ]
  },
  {
   "cell_type": "markdown",
   "metadata": {},
   "source": [
    "## Zadanie 2"
   ]
  },
  {
   "cell_type": "code",
   "execution_count": 19,
   "metadata": {},
   "outputs": [
    {
     "name": "stdout",
     "output_type": "stream",
     "text": [
      "Python UDP client!\n",
      "received: żô from: 127.0.0.1:9008\n"
     ]
    }
   ],
   "source": [
    "import socket\n",
    "\n",
    "serverIP = \"127.0.0.1\"\n",
    "serverPort = 9008\n",
    "msg = \"żółta gęś\"\n",
    "\n",
    "print(\"Python UDP client!\")\n",
    "client = socket.socket(socket.AF_INET, socket.SOCK_DGRAM)\n",
    "client.sendto(bytes(msg, 'utf-8'), (serverIP, serverPort))\n",
    "\n",
    "buff = []\n",
    "buff, address = client.recvfrom(2048)\n",
    "print(\"received: \" + str(buff, \"utf-8\") + \"from: \" + str(address[0]) + \":\" + str(address[1]))"
   ]
  },
  {
   "cell_type": "markdown",
   "metadata": {},
   "source": [
    "## Zadanie 3"
   ]
  },
  {
   "cell_type": "code",
   "execution_count": 34,
   "metadata": {},
   "outputs": [
    {
     "name": "stdout",
     "output_type": "stream",
     "text": [
      "Python UDP client!\n",
      "received: 70 from: 127.0.0.1:9008\n"
     ]
    }
   ],
   "source": [
    "import socket\n",
    "\n",
    "serverIP = \"127.0.0.1\"\n",
    "serverPort = 9008\n",
    "msg = (69).to_bytes(4, byteorder=\"little\")\n",
    "\n",
    "print(\"Python UDP client!\")\n",
    "client = socket.socket(socket.AF_INET, socket.SOCK_DGRAM)\n",
    "client.sendto(msg, (serverIP, serverPort))\n",
    "\n",
    "buff = []\n",
    "buff, address = client.recvfrom(2048)\n",
    "received_number = int.from_bytes(buff, byteorder='little')\n",
    "print(\"received: \" + str(received_number) + \" from: \" + str(address[0]) + \":\" + str(address[1]))"
   ]
  }
 ],
 "metadata": {
  "kernelspec": {
   "display_name": "Python 3",
   "language": "python",
   "name": "python3"
  },
  "language_info": {
   "codemirror_mode": {
    "name": "ipython",
    "version": 3
   },
   "file_extension": ".py",
   "mimetype": "text/x-python",
   "name": "python",
   "nbconvert_exporter": "python",
   "pygments_lexer": "ipython3",
   "version": "3.8.3"
  }
 },
 "nbformat": 4,
 "nbformat_minor": 4
}
