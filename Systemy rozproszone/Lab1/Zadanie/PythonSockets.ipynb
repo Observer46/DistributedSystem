{
 "cells": [
  {
   "cell_type": "markdown",
   "metadata": {},
   "source": [
    "# Python Sockets"
   ]
  },
  {
   "cell_type": "code",
   "execution_count": 3,
   "metadata": {},
   "outputs": [
    {
     "name": "stdout",
     "output_type": "stream",
     "text": [
      "Collecting package metadata (current_repodata.json): ...working... done\n",
      "Solving environment: ...working... failed with initial frozen solve. Retrying with flexible solve.\n",
      "Collecting package metadata (repodata.json): ...working... done\n",
      "Solving environment: ...working... failed with initial frozen solve. Retrying with flexible solve.\n",
      "\n",
      "Note: you may need to restart the kernel to use updated packages.\n"
     ]
    },
    {
     "name": "stderr",
     "output_type": "stream",
     "text": [
      "\n",
      "PackagesNotFoundError: The following packages are not available from current channels:\n",
      "\n",
      "  - py-getch\n",
      "\n",
      "Current channels:\n",
      "\n",
      "  - https://conda.anaconda.org/auto/win-64\n",
      "  - https://conda.anaconda.org/auto/noarch\n",
      "  - https://repo.anaconda.com/pkgs/main/win-64\n",
      "  - https://repo.anaconda.com/pkgs/main/noarch\n",
      "  - https://repo.anaconda.com/pkgs/r/win-64\n",
      "  - https://repo.anaconda.com/pkgs/r/noarch\n",
      "  - https://repo.anaconda.com/pkgs/msys2/win-64\n",
      "  - https://repo.anaconda.com/pkgs/msys2/noarch\n",
      "\n",
      "To search for alternate channels that may provide the conda package you're\n",
      "looking for, navigate to\n",
      "\n",
      "    https://anaconda.org\n",
      "\n",
      "and use the search bar at the top of the page.\n",
      "\n",
      "\n"
     ]
    }
   ],
   "source": [
    "conda install -c auto py-getch"
   ]
  },
  {
   "cell_type": "markdown",
   "metadata": {},
   "source": [
    "## Zadanie 2"
   ]
  },
  {
   "cell_type": "code",
   "execution_count": 4,
   "metadata": {},
   "outputs": [
    {
     "name": "stdout",
     "output_type": "stream",
     "text": [
      "Python UDP client!\n",
      "received: Ƽófrom: 127.0.0.1:9008\n"
     ]
    }
   ],
   "source": [
    "import socket\n",
    "\n",
    "serverIP = \"127.0.0.1\"\n",
    "serverPort = 9008\n",
    "msg = \"żółta gęś\"\n",
    "\n",
    "print(\"Python UDP client!\")\n",
    "client = socket.socket(socket.AF_INET, socket.SOCK_DGRAM)\n",
    "client.sendto(bytes(msg, 'utf-8'), (serverIP, serverPort))\n",
    "\n",
    "buff = []\n",
    "buff, address = client.recvfrom(2048)\n",
    "print(\"received: \" + str(buff, \"utf-8\") + \" from: \" + str(address[0]) + \":\" + str(address[1]))"
   ]
  },
  {
   "cell_type": "markdown",
   "metadata": {},
   "source": [
    "## Zadanie 3"
   ]
  },
  {
   "cell_type": "code",
   "execution_count": 3,
   "metadata": {},
   "outputs": [
    {
     "name": "stdout",
     "output_type": "stream",
     "text": [
      "Python UDP client!\n",
      "received: 70 from: 127.0.0.1:9008\n"
     ]
    }
   ],
   "source": [
    "import socket\n",
    "\n",
    "serverIP = \"127.0.0.1\"\n",
    "serverPort = 9008\n",
    "msg = (69).to_bytes(4, byteorder=\"little\")\n",
    "\n",
    "print(\"Python UDP client!\")\n",
    "client = socket.socket(socket.AF_INET, socket.SOCK_DGRAM)\n",
    "client.sendto(msg, (serverIP, serverPort))\n",
    "\n",
    "buff = []\n",
    "buff, address = client.recvfrom(2048)\n",
    "received_number = int.from_bytes(buff, byteorder='little')\n",
    "print(\"received: \" + str(received_number) + \" from: \" + str(address[0]) + \":\" + str(address[1]))"
   ]
  }
 ],
 "metadata": {
  "kernelspec": {
   "display_name": "Python 3",
   "language": "python",
   "name": "python3"
  },
  "language_info": {
   "codemirror_mode": {
    "name": "ipython",
    "version": 3
   },
   "file_extension": ".py",
   "mimetype": "text/x-python",
   "name": "python",
   "nbconvert_exporter": "python",
   "pygments_lexer": "ipython3",
   "version": "3.8.3"
  }
 },
 "nbformat": 4,
 "nbformat_minor": 4
}
